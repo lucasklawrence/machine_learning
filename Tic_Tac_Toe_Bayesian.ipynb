{
 "cells": [
  {
   "cell_type": "code",
   "execution_count": 1,
   "metadata": {
    "collapsed": true
   },
   "outputs": [],
   "source": [
    "import csv\n",
    "import pandas as pd\n",
    "import numpy as np"
   ]
  },
  {
   "cell_type": "code",
   "execution_count": 2,
   "metadata": {
    "collapsed": true
   },
   "outputs": [],
   "source": [
    "file=\"Documents\\\\University_of_Miami\\\\Machine_Learning\\\\tic-tac-toe.csv\"\n",
    "data=pd.read_csv(file,delim_whitespace=False,header=-1)\n",
    "randomData = data"
   ]
  },
  {
   "cell_type": "code",
   "execution_count": 3,
   "metadata": {
    "scrolled": true
   },
   "outputs": [
    {
     "name": "stdout",
     "output_type": "stream",
     "text": [
      "626\n",
      "332\n",
      "251\n"
     ]
    }
   ],
   "source": [
    "#create training set\n",
    "#0-625 are positive exmples\n",
    "#626-957 are negative examples\n",
    "data = np.array(data)\n",
    "numPositiveExamples = np.argwhere(data[:,9]=='positive').size\n",
    "numNegativeExamples = np.argwhere(data[:,9]=='negative').size\n",
    "percentageTraining = .60\n",
    "\n",
    "print(numPositiveExamples)\n",
    "print(numNegativeExamples)\n",
    "#add positive examples\n",
    "indexForPositiveTraining = int(numPositiveExamples * percentageTraining)\n",
    "positiveExamples = data[0:indexForPositiveTraining]\n",
    "\n",
    "print(numPositiveExamples - indexForPositiveTraining)\n",
    "#add negative examples\n",
    "indexForNegativeTraining = numPositiveExamples + int(numNegativeExamples * percentageTraining)\n",
    "negativeExamples = data[numPositiveExamples:indexForNegativeTraining]\n",
    "\n",
    "#combine into training array\n",
    "training_data = np.concatenate((positiveExamples, negativeExamples))"
   ]
  },
  {
   "cell_type": "code",
   "execution_count": 4,
   "metadata": {
    "collapsed": true
   },
   "outputs": [],
   "source": [
    "#create testing set\n",
    "positiveTestingExamples = data[indexForPositiveTraining:numPositiveExamples]\n",
    "negativeTestingExamples = data[indexForNegativeTraining:]\n",
    "\n",
    "testing_data = np.concatenate((positiveTestingExamples, negativeTestingExamples))"
   ]
  },
  {
   "cell_type": "code",
   "execution_count": 106,
   "metadata": {},
   "outputs": [
    {
     "name": "stdout",
     "output_type": "stream",
     "text": [
      "[['b' 'x' 'o' ..., 'b' 'o' 'negative']\n",
      " ['b' 'o' 'x' ..., 'x' 'b' 'positive']\n",
      " ['b' 'o' 'x' ..., 'b' 'x' 'positive']\n",
      " ..., \n",
      " ['o' 'x' 'x' ..., 'o' 'o' 'positive']\n",
      " ['b' 'o' 'x' ..., 'o' 'b' 'negative']\n",
      " ['o' 'x' 'x' ..., 'x' 'o' 'positive']]\n",
      "371\n",
      "203\n"
     ]
    }
   ],
   "source": [
    "#random data set\n",
    "np.random.shuffle(data)\n",
    "training_data_random = data[0:int(len(data)*.6)]\n",
    "testing_data_random = data[int(len(data)*.6):len(data)]\n",
    "print(training_data_random)\n",
    "\n",
    "numPositiveExamplesRandom = np.argwhere(training_data_random[:,9]=='positive').size\n",
    "numNegativeExamplesRandom = np.argwhere(training_data_random[:,9]=='negative').size\n",
    "\n",
    "print(numPositiveExamplesRandom)\n",
    "print(numNegativeExamplesRandom)"
   ]
  },
  {
   "cell_type": "raw",
   "metadata": {},
   "source": []
  },
  {
   "cell_type": "code",
   "execution_count": 125,
   "metadata": {},
   "outputs": [
    {
     "name": "stdout",
     "output_type": "stream",
     "text": [
      "0.6463414634146342\n",
      "0.35365853658536583\n"
     ]
    }
   ],
   "source": [
    "#Attribute Information:\n",
    "#\n",
    "#1. top-left-square: {x,o,b} \n",
    "#2. top-middle-square: {x,o,b} \n",
    "#3. top-right-square: {x,o,b} \n",
    "#4. middle-left-square: {x,o,b} \n",
    "#5. middle-middle-square: {x,o,b} \n",
    "#6. middle-right-square: {x,o,b} \n",
    "#7. bottom-left-square: {x,o,b} \n",
    "#8. bottom-middle-square: {x,o,b} \n",
    "#9. bottom-right-square: {x,o,b} \n",
    "#10. Class: {positive,negative}\n",
    "\n",
    "numAttributes  = 9\n",
    "numClasses = 2\n",
    "numExamples = data.size / data[0].size\n",
    "numTrain = training_data.size / training_data[0].size\n",
    "\n",
    "indexOfPositiveTrainingExamples = np.argwhere(training_data[:,9]=='positive')\n",
    "indexOfNegativeTrainingExamples = np.argwhere(training_data[:,9]=='negative')\n",
    "\n",
    "P1 = len(indexOfPositiveTrainingExamples)/numTrain\n",
    "P2 = len(indexOfNegativeTrainingExamples)/numTrain\n",
    "\n",
    "numTrainRandom = training_data_random.size / training_data_random[0].size\n",
    "\n",
    "indexOfPositiveTrainingExamplesRandom = np.argwhere(training_data_random[:,9]=='positive')\n",
    "indexOfNegativeTrainingExamplesRandom = np.argwhere(training_data_random[:,9]=='negative')\n",
    "\n",
    "P1random = len(indexOfPositiveTrainingExamplesRandom)/numTrainRandom\n",
    "P2random = len(indexOfNegativeTrainingExamplesRandom)/numTrainRandom\n",
    "\n",
    "print(P1random)\n",
    "print(P2random)\n",
    "attributeValues = ['x', 'o', 'b']\n",
    "#probAttributes = [.5, .4, .1]\n",
    "probAttributes = [1/3, 1/3, 1/3]\n",
    "\n",
    "#m-estimate\n",
    "m = 1\n",
    "\n",
    "##### P(attribute 1 | class j)\n",
    "probAttr1GivenC1 = np.zeros(len(attributeValues))\n",
    "probAttr1GivenC2 = np.zeros(len(attributeValues))\n",
    "for i in range(len(attributeValues)):\n",
    "    probAttr1GivenC1[i] = (len(np.argwhere(training_data_random[indexOfPositiveTrainingExamplesRandom,0]==attributeValues[i]))+m*probAttributes[i])/(len(indexOfPositiveTrainingExamples)+m)\n",
    "    probAttr1GivenC2[i] = (len(np.argwhere(training_data_random[indexOfNegativeTrainingExamplesRandom,0]==attributeValues[i]))+m*probAttributes[i])/(len(indexOfNegativeTrainingExamples)+m)\n",
    "\n",
    "##### P(attribute 2 | class j)\n",
    "probAttr2GivenC1 = np.zeros(len(attributeValues))\n",
    "probAttr2GivenC2 = np.zeros(len(attributeValues))\n",
    "for i in range(len(attributeValues)):\n",
    "    probAttr2GivenC1[i] = (len(np.argwhere(training_data_random[indexOfPositiveTrainingExamplesRandom,1]==attributeValues[i]))+m*probAttributes[i])/(len(indexOfPositiveTrainingExamples)+m)\n",
    "    probAttr2GivenC2[i] = (len(np.argwhere(training_data_random[indexOfNegativeTrainingExamplesRandom,1]==attributeValues[i]))+m*probAttributes[i])/(len(indexOfNegativeTrainingExamples)+m)\n",
    "\n",
    "#### P(attribute 3 | class j)\n",
    "probAttr3GivenC1 = np.zeros(len(attributeValues))\n",
    "probAttr3GivenC2 = np.zeros(len(attributeValues))\n",
    "for i in range(len(attributeValues)):\n",
    "    probAttr3GivenC1[i] = (len(np.argwhere(training_data_random[indexOfPositiveTrainingExamplesRandom,2]==attributeValues[i]))+m*probAttributes[i])/(len(indexOfPositiveTrainingExamples)+m)\n",
    "    probAttr3GivenC2[i] = (len(np.argwhere(training_data_random[indexOfNegativeTrainingExamplesRandom,2]==attributeValues[i]))+m*probAttributes[i])/(len(indexOfNegativeTrainingExamples)+m)\n",
    "    \n",
    "##### P(attribute 4 | class j)\n",
    "probAttr4GivenC1 = np.zeros(len(attributeValues))\n",
    "probAttr4GivenC2 = np.zeros(len(attributeValues))\n",
    "for i in range(len(attributeValues)):\n",
    "    probAttr4GivenC1[i] = (len(np.argwhere(training_data_random[indexOfPositiveTrainingExamplesRandom,3]==attributeValues[i]))+m*probAttributes[i])/(len(indexOfPositiveTrainingExamples)+m)\n",
    "    probAttr4GivenC2[i] = (len(np.argwhere(training_data_random[indexOfNegativeTrainingExamplesRandom,3]==attributeValues[i]))+m*probAttributes[i])/(len(indexOfNegativeTrainingExamples)+m)\n",
    "    \n",
    "##### P(attribute 5 | class j)\n",
    "probAttr5GivenC1 = np.zeros(len(attributeValues))\n",
    "probAttr5GivenC2 = np.zeros(len(attributeValues))\n",
    "for i in range(len(attributeValues)):\n",
    "    probAttr5GivenC1[i] = (len(np.argwhere(training_data_random[indexOfPositiveTrainingExamplesRandom,4]==attributeValues[i]))+m*probAttributes[i])/(len(indexOfPositiveTrainingExamples)+m)\n",
    "    probAttr5GivenC2[i] = (len(np.argwhere(training_data_random[indexOfNegativeTrainingExamplesRandom,4]==attributeValues[i]))+m*probAttributes[i])/(len(indexOfNegativeTrainingExamples)+m)\n",
    "\n",
    "##### P(attribute 6 | class j)\n",
    "probAttr6GivenC1 = np.zeros(len(attributeValues))\n",
    "probAttr6GivenC2 = np.zeros(len(attributeValues))\n",
    "for i in range(len(attributeValues)):\n",
    "    probAttr6GivenC1[i] = (len(np.argwhere(training_data_random[indexOfPositiveTrainingExamplesRandom,5]==attributeValues[i]))+m*probAttributes[i])/(len(indexOfPositiveTrainingExamples)+m)\n",
    "    probAttr6GivenC2[i] = (len(np.argwhere(training_data_random[indexOfNegativeTrainingExamplesRandom,5]==attributeValues[i]))+m*probAttributes[i])/(len(indexOfNegativeTrainingExamples)+m)\n",
    "\n",
    "##### P(attribute 7 | class j)\n",
    "probAttr7GivenC1 = np.zeros(len(attributeValues))\n",
    "probAttr7GivenC2 = np.zeros(len(attributeValues))\n",
    "for i in range(len(attributeValues)):\n",
    "    probAttr7GivenC1[i] = (len(np.argwhere(training_data_random[indexOfPositiveTrainingExamplesRandom,6]==attributeValues[i]))+m*probAttributes[i])/(len(indexOfPositiveTrainingExamples)+m)\n",
    "    probAttr7GivenC2[i] = (len(np.argwhere(training_data_random[indexOfNegativeTrainingExamplesRandom,6]==attributeValues[i]))+m*probAttributes[i])/(len(indexOfNegativeTrainingExamples)+m)\n",
    "##### P(attribute 8 | class j)\n",
    "probAttr8GivenC1 = np.zeros(len(attributeValues))\n",
    "probAttr8GivenC2 = np.zeros(len(attributeValues))\n",
    "for i in range(len(attributeValues)):\n",
    "    probAttr8GivenC1[i] = (len(np.argwhere(training_data_random[indexOfPositiveTrainingExamplesRandom,7]==attributeValues[i]))+m*probAttributes[i])/(len(indexOfPositiveTrainingExamples)+m)\n",
    "    probAttr8GivenC2[i] = (len(np.argwhere(training_data_random[indexOfNegativeTrainingExamplesRandom,7]==attributeValues[i]))+m*probAttributes[i])/(len(indexOfNegativeTrainingExamples)+m)\n",
    "    \n",
    "##### P(attribute 9 | class j)\n",
    "probAttr9GivenC1 = np.zeros(len(attributeValues))\n",
    "probAttr9GivenC2 = np.zeros(len(attributeValues))\n",
    "for i in range(len(attributeValues)):\n",
    "    probAttr9GivenC1[i] = (len(np.argwhere(training_data_random[indexOfPositiveTrainingExamplesRandom,8]==attributeValues[i]))+m*probAttributes[i])/(len(indexOfPositiveTrainingExamples)+m)\n",
    "    probAttr9GivenC2[i] = (len(np.argwhere(training_data_random[indexOfNegativeTrainingExamplesRandom,8]==attributeValues[i]))+m*probAttributes[i])/(len(indexOfNegativeTrainingExamples)+m)\n",
    "    \n"
   ]
  },
  {
   "cell_type": "code",
   "execution_count": 126,
   "metadata": {},
   "outputs": [
    {
     "name": "stdout",
     "output_type": "stream",
     "text": [
      "[ 0.44237589  0.30673759  0.24024823]\n",
      "[ 0.38666667  0.45666667  0.17666667]\n",
      "[ 0.33067376  0.38120567  0.27748227]\n",
      "[ 0.47666667  0.30666667  0.23666667]\n",
      "[ 0.47960993  0.26950355  0.24024823]\n",
      "[ 0.34666667  0.45166667  0.22166667]\n",
      "[ 0.3785461   0.32269504  0.28812057]\n",
      "[ 0.45166667  0.31666667  0.25166667]\n",
      "[ 0.54875887  0.26152482  0.17907801]\n",
      "[ 0.30666667  0.57666667  0.13666667]\n",
      "[ 0.38120567  0.34663121  0.26152482]\n",
      "[ 0.50166667  0.29666667  0.22166667]\n",
      "[ 0.47163121  0.31471631  0.20301418]\n",
      "[ 0.36166667  0.44166667  0.21666667]\n",
      "[ 0.35992908  0.37588652  0.2535461 ]\n",
      "[ 0.46666667  0.29666667  0.25666667]\n",
      "[ 0.46897163  0.29609929  0.22429078]\n",
      "[ 0.34166667  0.45666667  0.22166667]\n"
     ]
    }
   ],
   "source": [
    "print(probAttr1GivenC1)\n",
    "print(probAttr1GivenC2)\n",
    "print(probAttr2GivenC1)\n",
    "print(probAttr2GivenC2)\n",
    "print(probAttr3GivenC1)\n",
    "print(probAttr3GivenC2)\n",
    "print(probAttr4GivenC1)\n",
    "print(probAttr4GivenC2)\n",
    "print(probAttr5GivenC1)\n",
    "print(probAttr5GivenC2)\n",
    "print(probAttr6GivenC1)\n",
    "print(probAttr6GivenC2)\n",
    "print(probAttr7GivenC1)\n",
    "print(probAttr7GivenC2)\n",
    "print(probAttr8GivenC1)\n",
    "print(probAttr8GivenC2)\n",
    "print(probAttr9GivenC1)\n",
    "print(probAttr9GivenC2)"
   ]
  },
  {
   "cell_type": "code",
   "execution_count": 127,
   "metadata": {},
   "outputs": [
    {
     "name": "stdout",
     "output_type": "stream",
     "text": [
      "['x', 'o', 'b']\n",
      "Number of correctly classified examples in the training set is: 268\n",
      "Number of incorrectly classifed examples in the training set is: 116\n",
      "Percentage of correctly classified examples is: 69.79166666666666\n"
     ]
    }
   ],
   "source": [
    "numCorrect = 0\n",
    "numIncorrect = 0\n",
    "print(attributeValues)\n",
    "#for i in range(len(testing_data)):\n",
    "for i in range(len(testing_data_random)):\n",
    "    indexForAttribute1 = -1\n",
    "    indexForAttribute2 = -1 \n",
    "    indexForAttribute3 = -1\n",
    "    indexForAttribute4 = -1\n",
    "    indexForAttribute5 = -1\n",
    "    indexForAttribute6 = -1\n",
    "    indexForAttribute7 = -1 \n",
    "    indexForAttribute8 = -1\n",
    "    indexForAttribute9 = -1 \n",
    "    if attributeValues[0]==testing_data_random[i][0]:\n",
    "        indexForAttribute1 = 0\n",
    "    if attributeValues[1]==testing_data_random[i][0]:\n",
    "        indexForAttribute1 = 1\n",
    "    if attributeValues[2]==testing_data_random[i][0]:\n",
    "        indexForAttribute1 = 2\n",
    "    if attributeValues[0]==testing_data_random[i][1]:\n",
    "        indexForAttribute2 = 0\n",
    "    if attributeValues[1]==testing_data_random[i][1]:\n",
    "        indexForAttribute2 = 1\n",
    "    if attributeValues[2]==testing_data_random[i][1]:\n",
    "        indexForAttribute2 = 2\n",
    "    if attributeValues[0]==testing_data_random[i][2]:\n",
    "        indexForAttribute3 = 0\n",
    "    if attributeValues[1]==testing_data_random[i][2]:\n",
    "        indexForAttribute3 = 1\n",
    "    if attributeValues[2]==testing_data_random[i][2]:\n",
    "        indexForAttribute3 = 2\n",
    "    if attributeValues[0]==testing_data_random[i][3]:\n",
    "        indexForAttribute4 = 0\n",
    "    if attributeValues[1]==testing_data_random[i][3]:\n",
    "        indexForAttribute4 = 1\n",
    "    if attributeValues[2]==testing_data_random[i][3]:\n",
    "        indexForAttribute4 = 2\n",
    "    if attributeValues[0]==testing_data_random[i][4]:\n",
    "        indexForAttribute5 = 0\n",
    "    if attributeValues[1]==testing_data_random[i][4]:\n",
    "        indexForAttribute5 = 1\n",
    "    if attributeValues[2]==testing_data_random[i][4]:\n",
    "        indexForAttribute5 = 2\n",
    "    if attributeValues[0]==testing_data_random[i][5]:\n",
    "        indexForAttribute6 = 0\n",
    "    if attributeValues[1]==testing_data_random[i][5]:\n",
    "        indexForAttribute6 = 1\n",
    "    if attributeValues[2]==testing_data_random[i][5]:\n",
    "        indexForAttribute6 = 2\n",
    "    if attributeValues[0]==testing_data_random[i][6]:\n",
    "        indexForAttribute7 = 0\n",
    "    if attributeValues[1]==testing_data_random[i][6]:\n",
    "        indexForAttribute7 = 1\n",
    "    if attributeValues[2]==testing_data_random[i][6]:\n",
    "        indexForAttribute7 = 2\n",
    "    if attributeValues[0]==testing_data_random[i][7]:\n",
    "        indexForAttribute8 = 0\n",
    "    if attributeValues[1]==testing_data_random[i][7]:\n",
    "        indexForAttribute8 = 1\n",
    "    if attributeValues[2]==testing_data_random[i][7]:\n",
    "        indexForAttribute8 = 2\n",
    "    if attributeValues[0]==testing_data_random[i][8]:\n",
    "        indexForAttribute9 = 0\n",
    "    if attributeValues[1]==testing_data_random[i][8]:\n",
    "        indexForAttribute9 = 1\n",
    "    if attributeValues[2]==testing_data_random[i][8]:\n",
    "        indexForAttribute9 = 2\n",
    "    #idk why this isnt working\n",
    "    #indexForAttribute1 = np.argwhere(attributeValues == testing_data[i][0])\n",
    "    #indexForAttribute2 = np.where(attributeValues == testing_data[i][1])\n",
    "    #indexForAttribute3 = np.where(attributeValues == testing_data[i][2])\n",
    "    #indexForAttribute4 = np.where(attributeValues == testing_data[i][3])\n",
    "    #indexForAttribute5 = np.where(attributeValues == testing_data[i][4])\n",
    "    #indexForAttribute6 = np.where(attributeValues == testing_data[i][5])\n",
    "    #indexForAttribute7 = np.where(attributeValues == testing_data[i][6])\n",
    "    #indexForAttribute8 = np.where(attributeValues == testing_data[i][7])\n",
    "    #indexForAttribute9 = np.where(attributeValues == testing_data[i][8])\n",
    "    val1=P1*probAttr1GivenC1[indexForAttribute1]*probAttr2GivenC1[indexForAttribute2]*probAttr3GivenC1[indexForAttribute3]*probAttr4GivenC1[indexForAttribute4]*probAttr5GivenC1[indexForAttribute5]*probAttr6GivenC1[indexForAttribute6]*probAttr7GivenC1[indexForAttribute7]*probAttr8GivenC1[indexForAttribute8]*probAttr9GivenC1[indexForAttribute9]\n",
    "    val2=P2*probAttr1GivenC2[indexForAttribute1]*probAttr2GivenC2[indexForAttribute2]*probAttr3GivenC2[indexForAttribute3]*probAttr4GivenC2[indexForAttribute4]*probAttr5GivenC2[indexForAttribute5]*probAttr6GivenC2[indexForAttribute6]*probAttr7GivenC2[indexForAttribute7]*probAttr8GivenC2[indexForAttribute8]*probAttr9GivenC2[indexForAttribute9]\n",
    "    y = np.array([val1,val2])\n",
    "    choice = np.argmax(y)\n",
    "    if choice == 0 and 'positive' == testing_data_random[i][9]:\n",
    "        numCorrect += 1\n",
    "    elif choice == 1 and 'negative' == testing_data_random[i][9]:\n",
    "        numCorrect += 1\n",
    "    else:\n",
    "        numIncorrect += 1\n",
    "\n",
    "string1 = \"Number of correctly classified examples in the training set is: \"\n",
    "string1 += str(numCorrect) \n",
    "\n",
    "print(string1)\n",
    "string2 = \"Number of incorrectly classifed examples in the training set is: \" + str(numIncorrect)\n",
    "print(string2)\n",
    "\n",
    "percentageCorrect = (numCorrect / (numCorrect + numIncorrect))*100\n",
    "string3 = \"Percentage of correctly classified examples is: \" + str(percentageCorrect)\n",
    "print(string3)"
   ]
  },
  {
   "cell_type": "code",
   "execution_count": null,
   "metadata": {
    "collapsed": true
   },
   "outputs": [],
   "source": []
  },
  {
   "cell_type": "code",
   "execution_count": null,
   "metadata": {
    "collapsed": true
   },
   "outputs": [],
   "source": []
  }
 ],
 "metadata": {
  "kernelspec": {
   "display_name": "Python 3",
   "language": "python",
   "name": "python3"
  },
  "language_info": {
   "codemirror_mode": {
    "name": "ipython",
    "version": 3
   },
   "file_extension": ".py",
   "mimetype": "text/x-python",
   "name": "python",
   "nbconvert_exporter": "python",
   "pygments_lexer": "ipython3",
   "version": "3.6.1"
  }
 },
 "nbformat": 4,
 "nbformat_minor": 2
}
