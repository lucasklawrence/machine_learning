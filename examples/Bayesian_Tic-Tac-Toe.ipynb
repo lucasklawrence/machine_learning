{
 "cells": [
  {
   "cell_type": "code",
   "execution_count": 8,
   "metadata": {
    "collapsed": true
   },
   "outputs": [],
   "source": [
    "import pandas as pd\n",
    "import numpy as np\n",
    "import matplotlib.pyplot as plt\n",
    "\n",
    "# add classifiers directory to import classifiers\n",
    "import sys\n",
    "sys.path.insert(0, '../classifiers/')\n",
    "\n",
    "import bayesian"
   ]
  },
  {
   "cell_type": "code",
   "execution_count": 9,
   "metadata": {},
   "outputs": [],
   "source": [
    "# read in dataset\n",
    "file=\"..\\\\datasets\\\\tic-tac-toe.csv\"\n",
    "data=pd.read_csv(file,delim_whitespace=False,header=-1)"
   ]
  },
  {
   "cell_type": "code",
   "execution_count": 10,
   "metadata": {},
   "outputs": [],
   "source": [
    "#create training set\n",
    "#0-625 are positive exmples\n",
    "#626-957 are negative examples\n",
    "data = np.array(data)\n",
    "numPositiveExamples = np.argwhere(data[:,9]=='positive').size\n",
    "numNegativeExamples = np.argwhere(data[:,9]=='negative').size\n",
    "percentageTraining = .60\n",
    "\n",
    "#choose 60% of positive and 60 % of negative examples to add to training_data\n",
    "#add positive examples\n",
    "indexForPositiveTraining = int(numPositiveExamples * percentageTraining)\n",
    "positiveExamples = data[0:indexForPositiveTraining]\n",
    "\n",
    "#add negative examples\n",
    "indexForNegativeTraining = numPositiveExamples + int(numNegativeExamples * percentageTraining)\n",
    "negativeExamples = data[numPositiveExamples:indexForNegativeTraining]\n",
    "\n",
    "#combine into training array\n",
    "training_data = np.concatenate((positiveExamples, negativeExamples))\n",
    "\n",
    "numColumns = data.shape[1]\n",
    "X=training_data[:, 0:numColumns-1]\n",
    "Y=training_data[:, numColumns-1:numColumns]\n",
    "\n",
    "#create testing set\n",
    "positiveTestingExamples = data[indexForPositiveTraining:numPositiveExamples]\n",
    "negativeTestingExamples = data[indexForNegativeTraining:]\n",
    "\n",
    "testing_data = np.concatenate((positiveTestingExamples, negativeTestingExamples))\n",
    "x_testing = testing_data[:, 0:numColumns-1]\n",
    "y_testing = testing_data[:, numColumns-1:numColumns]"
   ]
  },
  {
   "cell_type": "code",
   "execution_count": 12,
   "metadata": {},
   "outputs": [
    {
     "name": "stdout",
     "output_type": "stream",
     "text": [
      "Number of unique classes: ['negative' 'positive']\n",
      "[0.3466899 0.6533101]\n",
      "[<bayesian.ConditionalProb object at 0x00000190124A2EF0>, <bayesian.ConditionalProb object at 0x00000190124A2F28>, <bayesian.ConditionalProb object at 0x00000190124A2F60>, <bayesian.ConditionalProb object at 0x00000190124A2F98>, <bayesian.ConditionalProb object at 0x0000019012413CC0>, <bayesian.ConditionalProb object at 0x00000190124A2FD0>, <bayesian.ConditionalProb object at 0x0000019012495048>, <bayesian.ConditionalProb object at 0x0000019012495080>, <bayesian.ConditionalProb object at 0x00000190124950B8>, <bayesian.ConditionalProb object at 0x00000190124950F0>, <bayesian.ConditionalProb object at 0x00000190124A2D68>, <bayesian.ConditionalProb object at 0x00000190124A2DA0>, <bayesian.ConditionalProb object at 0x0000019012495128>, <bayesian.ConditionalProb object at 0x00000190124951D0>, <bayesian.ConditionalProb object at 0x0000019012495208>, <bayesian.ConditionalProb object at 0x0000019012495240>, <bayesian.ConditionalProb object at 0x0000019012495278>, <bayesian.ConditionalProb object at 0x00000190124952B0>, <bayesian.ConditionalProb object at 0x00000190124952E8>, <bayesian.ConditionalProb object at 0x0000019012413CF8>, <bayesian.ConditionalProb object at 0x0000019012495320>, <bayesian.ConditionalProb object at 0x0000019012495358>, <bayesian.ConditionalProb object at 0x0000019012495390>, <bayesian.ConditionalProb object at 0x00000190124953C8>, <bayesian.ConditionalProb object at 0x0000019012495400>, <bayesian.ConditionalProb object at 0x0000019012495160>, <bayesian.ConditionalProb object at 0x0000019012495198>, <bayesian.ConditionalProb object at 0x0000019012495438>, <bayesian.ConditionalProb object at 0x0000019012495470>, <bayesian.ConditionalProb object at 0x00000190124954A8>, <bayesian.ConditionalProb object at 0x00000190124954E0>, <bayesian.ConditionalProb object at 0x0000019012495518>, <bayesian.ConditionalProb object at 0x0000019012495550>, <bayesian.ConditionalProb object at 0x0000019012495588>, <bayesian.ConditionalProb object at 0x00000190124955C0>, <bayesian.ConditionalProb object at 0x00000190124955F8>, <bayesian.ConditionalProb object at 0x0000019012495630>, <bayesian.ConditionalProb object at 0x0000019012495668>, <bayesian.ConditionalProb object at 0x00000190124956A0>, <bayesian.ConditionalProb object at 0x00000190124956D8>, <bayesian.ConditionalProb object at 0x0000019012495710>, <bayesian.ConditionalProb object at 0x0000019012495748>, <bayesian.ConditionalProb object at 0x0000019012495780>, <bayesian.ConditionalProb object at 0x00000190124957B8>, <bayesian.ConditionalProb object at 0x00000190124957F0>, <bayesian.ConditionalProb object at 0x0000019012495828>, <bayesian.ConditionalProb object at 0x0000019012495860>, <bayesian.ConditionalProb object at 0x0000019012495898>, <bayesian.ConditionalProb object at 0x00000190124958D0>, <bayesian.ConditionalProb object at 0x0000019012495908>, <bayesian.ConditionalProb object at 0x0000019012495940>, <bayesian.ConditionalProb object at 0x0000019012495978>]\n",
      "Accuracy is 0.6666666666666666\n"
     ]
    }
   ],
   "source": [
    "bayesian_classifier = bayesian.Bayesian()\n",
    "unique_classes, class_probs, cond_probabilities = bayesian_classifier.train(X, Y)\n",
    "\n",
    "print(\"Unique classes: \" + str(unique_classes))\n",
    "print((\"With class probabilities:\" end = \"\"class_probs)\n",
    "y = bayesian_classifier.predict(x_testing, unique_classes, class_probs, cond_probabilities)\n",
    "\n",
    "numCorrect = 0\n",
    "total = 0\n",
    "\n",
    "for i in range(len(y)):\n",
    "    if y[i] == y_testing[i]:\n",
    "        numCorrect += 1\n",
    "    total += 1\n",
    "\n",
    "print(\"Accuracy is \" + str(numCorrect/total))"
   ]
  },
  {
   "cell_type": "code",
   "execution_count": null,
   "metadata": {
    "collapsed": true
   },
   "outputs": [],
   "source": []
  }
 ],
 "metadata": {
  "kernelspec": {
   "display_name": "Python 3",
   "language": "python",
   "name": "python3"
  },
  "language_info": {
   "codemirror_mode": {
    "name": "ipython",
    "version": 3
   },
   "file_extension": ".py",
   "mimetype": "text/x-python",
   "name": "python",
   "nbconvert_exporter": "python",
   "pygments_lexer": "ipython3",
   "version": "3.6.1"
  }
 },
 "nbformat": 4,
 "nbformat_minor": 2
}
